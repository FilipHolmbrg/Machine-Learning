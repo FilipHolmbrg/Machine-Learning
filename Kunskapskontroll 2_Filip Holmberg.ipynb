{
 "cells": [
  {
   "cell_type": "markdown",
   "id": "834ded1a-e685-43b7-a697-7d20b6a75ac4",
   "metadata": {},
   "source": [
    "### Imports"
   ]
  },
  {
   "cell_type": "code",
   "execution_count": null,
   "id": "c5040003-2cb1-4b3e-94e5-3e2c2fc5fe06",
   "metadata": {},
   "outputs": [],
   "source": [
    "import numpy as np\n",
    "import pandas as pd\n",
    "import matplotlib.pyplot as plt\n",
    "import matplotlib as mpl\n",
    "\n",
    "from sklearn.datasets import fetch_openml\n",
    "from sklearn.model_selection import train_test_split\n",
    "from sklearn.model_selection import cross_val_score\n",
    "from sklearn.model_selection import GridSearchCV\n",
    "\n",
    "from sklearn.linear_model import LogisticRegression\n",
    "from sklearn.ensemble import RandomForestClassifier\n",
    "from sklearn.neighbors import KNeighborsClassifier\n",
    "from sklearn import svm\n",
    "\n",
    "import cv2\n",
    "\n",
    "from sklearn.preprocessing import PolynomialFeatures\n",
    "from sklearn.linear_model import LinearRegression\n",
    "\n",
    "from sklearn.model_selection import cross_val_predict\n",
    "from sklearn.metrics import confusion_matrix, ConfusionMatrixDisplay\n",
    "from sklearn.metrics import classification_report\n",
    "\n",
    "import joblib"
   ]
  },
  {
   "cell_type": "markdown",
   "id": "e426bded-102f-4b01-b9a4-cad25f504921",
   "metadata": {},
   "source": [
    "### Collection and exploration of data (Part 1)"
   ]
  },
  {
   "cell_type": "code",
   "execution_count": null,
   "id": "88afbd74-9f07-42ec-bded-c82dc87c29aa",
   "metadata": {},
   "outputs": [],
   "source": [
    "mnist = fetch_openml('mnist_784', version=1, cache=True, as_frame=False)\n",
    "print(mnist.DESCR)"
   ]
  },
  {
   "cell_type": "code",
   "execution_count": null,
   "id": "ad964ecf-7d82-4a15-9084-eaad0a204f85",
   "metadata": {},
   "outputs": [],
   "source": [
    "X = mnist[\"data\"]\n",
    "y = mnist[\"target\"].astype(np.uint8)"
   ]
  },
  {
   "cell_type": "code",
   "execution_count": null,
   "id": "74009e59-c2ac-4b78-ac1a-ffa1f69b7191",
   "metadata": {},
   "outputs": [],
   "source": [
    "# inspect data\n",
    "print(X.shape)\n",
    "print(y.shape)\n",
    "print(X[0])\n",
    "print(y[0])"
   ]
  },
  {
   "cell_type": "code",
   "execution_count": null,
   "id": "e7abcf5d-0882-4e1c-9ff9-481f4532cf7b",
   "metadata": {},
   "outputs": [],
   "source": [
    "# Plotting the features of the X data, it looks like a 5.\n",
    "some_digit = X[0]\n",
    "some_digit_image = some_digit.reshape(28, 28)\n",
    "plt.imshow(some_digit_image, cmap=mpl.cm.binary)\n",
    "print(some_digit_image)"
   ]
  },
  {
   "cell_type": "code",
   "execution_count": null,
   "id": "e30c7e6d-6fa6-49a4-830e-360d380d3cdb",
   "metadata": {},
   "outputs": [],
   "source": [
    "# Count feature attributes\n",
    "\n",
    "def count_feature_attribute(my_matrix, control):\n",
    "    new_matrix = my_matrix.reshape(28, 28)\n",
    "    \n",
    "    empty_matrix = []\n",
    "    count_length_deadspace = 0\n",
    "    count_length_digit = 0\n",
    "    \n",
    "    for idx, num in enumerate(new_matrix):\n",
    "        if num.sum() < 1:\n",
    "            count_length_deadspace += 1            \n",
    "        if num.sum() > 0:\n",
    "            empty_matrix.append(num)\n",
    "\n",
    "    empty_matrix = np.array(empty_matrix)\n",
    "    \n",
    "    diff = 28 - empty_matrix.shape[0]\n",
    "    zeros = np.zeros((diff, empty_matrix.shape[1]))\n",
    "\n",
    "\n",
    "    if control == True:\n",
    "\n",
    "        new_empty_matrix = np.concatenate((empty_matrix, zeros), axis=0)\n",
    "    else:\n",
    "        new_empty_matrix = np.concatenate((zeros, empty_matrix), axis=0)\n",
    "            \n",
    "    new_empty_matrix =new_empty_matrix.transpose()\n",
    "\n",
    "    count_length_digit = 28-count_length_deadspace\n",
    "    \n",
    "    return new_empty_matrix, count_length_deadspace, count_length_digit"
   ]
  },
  {
   "cell_type": "code",
   "execution_count": null,
   "id": "35b1a504-a446-4c3d-89d2-fcd8801bde58",
   "metadata": {},
   "outputs": [],
   "source": [
    "heights_dead_space = []\n",
    "heights_digits = []\n",
    "width_dead_space = []\n",
    "width_digits = []\n",
    "    \n",
    "for item in X:\n",
    "    output_1 = count_feature_attribute(item, True)\n",
    "    new_item = output_1[0]\n",
    "    heights_dead_space.append(output_1[1])\n",
    "    heights_digits.append(output_1[2])\n",
    "\n",
    "    output_2 = count_feature_attribute(new_item, True)\n",
    "    width_dead_space.append(output_2[1])\n",
    "    width_digits.append(output_2[2])"
   ]
  },
  {
   "cell_type": "code",
   "execution_count": null,
   "id": "219efd5a-6348-432e-b1a2-73a46d21cc14",
   "metadata": {},
   "outputs": [],
   "source": [
    "print(np.mean(heights_dead_space))\n",
    "print(np.mean(heights_digits))\n",
    "print(np.mean(width_dead_space))\n",
    "print(np.mean(width_digits))\n",
    "print()\n",
    "print(f\"sum of dead_space above and below digit should be approx: {int(100*(np.mean(heights_dead_space)/28))} % of image height\")\n",
    "print()\n",
    "print(f\"aspect ratio (length/width) digit should be approx: {np.mean(heights_digits)/np.mean(width_digits)}\")"
   ]
  },
  {
   "cell_type": "markdown",
   "id": "4dbf57e6-71b7-496b-8b7b-f5dd5bf6bc4b",
   "metadata": {},
   "source": [
    "### Random Forest model performance on two different datasets (Part 2)"
   ]
  },
  {
   "cell_type": "code",
   "execution_count": null,
   "id": "34976b9f-8ec4-4aaa-b667-3f8a62f2e4ee",
   "metadata": {},
   "outputs": [],
   "source": [
    "# For-looping set A and extracting the necessary 56 features. \n",
    "\n",
    "X_new_concat_final = []\n",
    "\n",
    "# for item in X_new:\n",
    "for item in X:\n",
    "\n",
    "    item = item.reshape(28, 28)\n",
    "    \n",
    "    row_sum = []\n",
    "    column_sum = []\n",
    "    \n",
    "    for array in item:\n",
    "        row_sum.append(np.sum(array))\n",
    "    \n",
    "    new_matrix_transposed = item.transpose()\n",
    "    \n",
    "    for array in new_matrix_transposed:\n",
    "        column_sum.append(np.sum(array))\n",
    "    \n",
    "    row_sum = np.array(row_sum)\n",
    "    column_sum = np.array(column_sum)\n",
    "    \n",
    "    row_sum = row_sum.reshape(1, 28)[0]\n",
    "    column_sum = column_sum.reshape(1, 28)[0]\n",
    "    \n",
    "    # X_new_concat = np.concatenate((item, row_sum), axis=None)\n",
    "    # X_new_concat = np.concatenate((X_new_concat, column_sum), axis=None)\n",
    "    X_new_concat = row_sum\n",
    "    X_new_concat = np.concatenate((X_new_concat, column_sum), axis=None)\n",
    "    # X_new_concat = np.concatenate((X_new_concat, row_sum[::-1]), axis=None)\n",
    "    # X_new_concat = np.concatenate((X_new_concat, column_sum[::-1]), axis=None)\n",
    "\n",
    "    X_new_concat_final.append(X_new_concat)\n",
    "\n",
    "X_new_concat_final = np.array(X_new_concat_final)"
   ]
  },
  {
   "cell_type": "code",
   "execution_count": null,
   "id": "8279860d-e8b5-4412-8147-4709c3f02b4f",
   "metadata": {},
   "outputs": [],
   "source": [
    "# Dumping data into dictionary\n",
    "\n",
    "dict = {}\n",
    "\n",
    "for i in range(0,(28+28)):\n",
    "    \n",
    "    current_list = []\n",
    "    \n",
    "    for index,number in enumerate(X_new_concat_final):\n",
    "        \n",
    "        current_list.append(number[i])  #första frame, ta första element, ny frame, ta första element.\n",
    "\n",
    "    dict[f\"x_{i}\"] = current_list"
   ]
  },
  {
   "cell_type": "code",
   "execution_count": null,
   "id": "4925d73c-ef40-4032-a432-746f18082e21",
   "metadata": {},
   "outputs": [],
   "source": [
    "dict[\"label\"] = y"
   ]
  },
  {
   "cell_type": "code",
   "execution_count": null,
   "id": "5fb67fa9-6b8a-4e06-ac53-cc0d0eba496f",
   "metadata": {},
   "outputs": [],
   "source": [
    "df = pd.DataFrame(dict)\n",
    " \n",
    "df.head()"
   ]
  },
  {
   "cell_type": "code",
   "execution_count": null,
   "id": "184a90f7-7eb4-4348-9322-edc0ec7c121a",
   "metadata": {},
   "outputs": [],
   "source": [
    "X_to_model = df.drop(['label'], axis=1).values\n",
    "y_to_model = df['label'].values"
   ]
  },
  {
   "cell_type": "markdown",
   "id": "3ecdee0e-155c-4829-ab37-63428b3aff6b",
   "metadata": {},
   "source": [
    "#### Splitting data into train and test"
   ]
  },
  {
   "cell_type": "code",
   "execution_count": null,
   "id": "a790df65-7ab8-48be-b6a9-4ed81d85e324",
   "metadata": {},
   "outputs": [],
   "source": [
    "X_train, X_test, y_train, y_test = train_test_split(X, y, test_size=0.2, random_state=42, stratify = y)\n",
    "print(X_train.shape)\n",
    "print(X_test.shape)\n",
    "print(y_train.shape)\n",
    "print(y_test.shape)\n",
    "\n",
    "X_train_56, X_test_56, y_train_56, y_test_56 = train_test_split(X_to_model, y_to_model, test_size=0.2, random_state=42, stratify = y)\n",
    "print(X_train_56.shape)\n",
    "print(X_test_56.shape)\n",
    "print(y_train_56.shape)\n",
    "print(y_test_56.shape)"
   ]
  },
  {
   "cell_type": "markdown",
   "id": "0a6eb369-8d3d-498c-84dd-0a515d0786d0",
   "metadata": {},
   "source": [
    "#### Instancing and fit Random Forest Classifier models"
   ]
  },
  {
   "cell_type": "code",
   "execution_count": null,
   "id": "db801006-11f9-4bf7-b97d-bbddb37bdc90",
   "metadata": {},
   "outputs": [],
   "source": [
    "# 784 features\n",
    "random_forest_clf = RandomForestClassifier(n_jobs=-1, random_state=42)\n",
    "# 56 features\n",
    "random_forest_clf_56 = RandomForestClassifier(n_jobs=-1, random_state=42)"
   ]
  },
  {
   "cell_type": "code",
   "execution_count": null,
   "id": "68dbd421-2421-4d70-b1b5-b94dff070930",
   "metadata": {},
   "outputs": [],
   "source": [
    "scores_random_forest_clf = cross_val_score(random_forest_clf, X_train, y_train, cv=5)\n",
    "scores_random_forest_clf_56 = cross_val_score(random_forest_clf_56, X_train_56, y_train_56, cv=5)"
   ]
  },
  {
   "cell_type": "code",
   "execution_count": null,
   "id": "7812335e-5fbf-4522-a095-51a468d18b16",
   "metadata": {},
   "outputs": [],
   "source": [
    "print(np.mean(scores_random_forest_clf))\n",
    "print(np.mean(scores_random_forest_clf_56))"
   ]
  },
  {
   "cell_type": "markdown",
   "id": "d8b12c7d-03e1-417d-945a-8365bacc16a2",
   "metadata": {},
   "source": [
    "#### Splitting and retraining model for the sake of Confusion Matrix"
   ]
  },
  {
   "cell_type": "code",
   "execution_count": null,
   "id": "99d8aa42-1324-42db-bd95-894d4f6da6a6",
   "metadata": {},
   "outputs": [],
   "source": [
    "X_train_cm, X_val_cm, y_train_cm, y_val_cm = train_test_split(X_train, y_train, test_size=0.2, random_state=42, stratify = y_train)\n",
    "X_train_56_cm, X_val_56_cm, y_train_56_cm, y_val_56_cm = train_test_split(X_train_56, y_train_56, test_size=0.2, random_state=42, stratify = y_train_56)"
   ]
  },
  {
   "cell_type": "code",
   "execution_count": null,
   "id": "3c477cad-e58f-493e-b57a-d53adcb5f06e",
   "metadata": {},
   "outputs": [],
   "source": [
    "random_forest_clf = RandomForestClassifier(n_jobs=-1, random_state=42)\n",
    "random_forest_clf.fit(X_train_cm, y_train_cm)\n",
    "random_forest_clf_56 = RandomForestClassifier(n_jobs=-1, random_state=42)\n",
    "random_forest_clf_56.fit(X_train_56_cm, y_train_56_cm)"
   ]
  },
  {
   "cell_type": "code",
   "execution_count": null,
   "id": "304180ec-0281-4849-85e5-cd6c1da38172",
   "metadata": {},
   "outputs": [],
   "source": [
    "random_forest_clf_pred = random_forest_clf.predict(X_val_cm)\n",
    "random_forest_clf_56_pred = random_forest_clf_56.predict(X_val_56_cm)"
   ]
  },
  {
   "cell_type": "code",
   "execution_count": null,
   "id": "d4f5e357-406b-4f77-8b2e-b39e63fa2f77",
   "metadata": {},
   "outputs": [],
   "source": [
    "# These names were obtained above\n",
    "target_names = ['0', '1', '2', '3', '4', '5', '6', '7', '8', '9']\n",
    "\n",
    "cm1 = confusion_matrix(y_val_cm, random_forest_clf_pred)\n",
    "cm2 = confusion_matrix(y_val_56_cm, random_forest_clf_56_pred)\n",
    "\n",
    "fig, axs = plt.subplots(1, 2, figsize = (10, 9), layout='constrained')\n",
    "ConfusionMatrixDisplay(cm1, display_labels = target_names).plot(ax=axs[0])\n",
    "ConfusionMatrixDisplay(cm2, display_labels = target_names).plot(ax=axs[1])"
   ]
  },
  {
   "cell_type": "code",
   "execution_count": null,
   "id": "88757c00-36fd-48cc-ae76-9562cf62eb97",
   "metadata": {},
   "outputs": [],
   "source": [
    "random_forest_clf = RandomForestClassifier(n_jobs=-1, random_state=42)\n",
    "random_forest_clf.fit(X_train, y_train)"
   ]
  },
  {
   "cell_type": "code",
   "execution_count": null,
   "id": "adf33dc2-5d5b-45cf-b6e1-8cad4d256ffb",
   "metadata": {},
   "outputs": [],
   "source": [
    "random_forest_clf_pred = random_forest_clf.predict(X_test)\n",
    "print(classification_report(y_test, random_forest_clf_pred, target_names=target_names))"
   ]
  },
  {
   "cell_type": "code",
   "execution_count": null,
   "id": "aa401acc-39a0-42e7-9c17-94a4786a6ccd",
   "metadata": {},
   "outputs": [],
   "source": [
    "joblib.dump(random_forest_clf, \"model.pkl\")"
   ]
  },
  {
   "cell_type": "markdown",
   "id": "d7f1640a-c736-4415-9cf2-a46030a01320",
   "metadata": {},
   "source": [
    "### Preprocessing of images (Part 3)"
   ]
  },
  {
   "cell_type": "markdown",
   "id": "c8e12c96-58e9-4ac8-9de4-1940db4b17d8",
   "metadata": {},
   "source": [
    "#### prepocessing of MNIST dataset"
   ]
  },
  {
   "cell_type": "code",
   "execution_count": null,
   "id": "7d93a59c-bdd1-40bf-995d-bec1bbed1734",
   "metadata": {},
   "outputs": [],
   "source": [
    "# Custom function to dynamically find background of image\n",
    "\n",
    "def find_background(my_matrix):    \n",
    "    new_matrix = my_matrix.reshape(28, 28)\n",
    "\n",
    "    first_max = np.max(new_matrix[:2])\n",
    "    last_max = np.max(new_matrix[-2:])\n",
    "\n",
    "    return np.max([first_max,last_max])"
   ]
  },
  {
   "cell_type": "code",
   "execution_count": null,
   "id": "61f89819",
   "metadata": {},
   "outputs": [],
   "source": [
    "# Custom function to replace digit in top right corner\n",
    "\n",
    "def remove_dead_space(my_matrix, control):\n",
    "    new_matrix = my_matrix.reshape(28, 28)\n",
    "    \n",
    "    empty_matrix = []\n",
    "    \n",
    "    for idx, num in enumerate(new_matrix):\n",
    "        if num.sum() > 0:\n",
    "            empty_matrix.append(num)\n",
    "            \n",
    "    empty_matrix = np.array(empty_matrix)\n",
    "    \n",
    "    diff = 28 - empty_matrix.shape[0]\n",
    "\n",
    "    zeros = np.zeros((diff, empty_matrix.shape[1]))\n",
    "\n",
    "    if control == True:\n",
    "\n",
    "        new_empty_matrix = np.concatenate((empty_matrix, zeros), axis=0)\n",
    "    else:\n",
    "        new_empty_matrix = np.concatenate((zeros, empty_matrix), axis=0)\n",
    "            \n",
    "    new_empty_matrix =new_empty_matrix.transpose()\n",
    "        \n",
    "    return new_empty_matrix\n",
    "    "
   ]
  },
  {
   "cell_type": "code",
   "execution_count": null,
   "id": "ff57b0dc-771a-4681-8eef-1817e5f147b6",
   "metadata": {},
   "outputs": [],
   "source": [
    "# Looping through MNIST data to put digit in top right corner\n",
    "X_new = []\n",
    "    \n",
    "for item in X:\n",
    "#     print(len(item))\n",
    "    new_item = remove_dead_space(item, True)\n",
    "    X_new.append(remove_dead_space(new_item, False))"
   ]
  },
  {
   "cell_type": "code",
   "execution_count": null,
   "id": "4f20d94f",
   "metadata": {},
   "outputs": [],
   "source": [
    "# Normalize MNIST data\n",
    "X_new = np.array(X_new)\n",
    "X_new = X_new.reshape(-1,784)\n",
    "X_new = X_new / 255 #highest datapoint is always 254-255 in MNIST."
   ]
  },
  {
   "cell_type": "code",
   "execution_count": null,
   "id": "eab2a1df-7010-4978-8e5a-acb44d2e99cc",
   "metadata": {},
   "outputs": [],
   "source": [
    "# Checking the results after \n",
    "some_digit = X_new[0]\n",
    "some_digit_image = some_digit.reshape(28, 28)\n",
    "plt.imshow(some_digit_image, cmap=mpl.cm.binary)\n",
    "# plt.axis(\"off\")"
   ]
  },
  {
   "cell_type": "code",
   "execution_count": null,
   "id": "87ccc172-b977-470c-9392-d7ec6756b22d",
   "metadata": {},
   "outputs": [],
   "source": [
    "print(X_new[0])"
   ]
  },
  {
   "cell_type": "markdown",
   "id": "b049a9e9-e0dc-4f8f-a405-5d0f0cc789c8",
   "metadata": {},
   "source": [
    "### Split the preprocessed MNIST dataset, train the model and check generalization error. Finally saving the model locally."
   ]
  },
  {
   "cell_type": "code",
   "execution_count": null,
   "id": "ff02bc2b-6c0e-4ed4-8f3d-2904e95218af",
   "metadata": {},
   "outputs": [],
   "source": [
    "X_train_pp, X_test_pp, y_train_pp, y_test_pp = train_test_split(X_new, y, test_size=0.2, random_state=42, stratify = y)"
   ]
  },
  {
   "cell_type": "code",
   "execution_count": null,
   "id": "d6ee8e52-50bd-4f7c-9540-b963c052898c",
   "metadata": {},
   "outputs": [],
   "source": [
    "random_forest_clf = RandomForestClassifier(n_jobs=-1, random_state=42)\n",
    "random_forest_clf.fit(X_train_pp, y_train_pp)"
   ]
  },
  {
   "cell_type": "code",
   "execution_count": null,
   "id": "f2d40bbd-687d-4ce1-bfcc-ebde8446c2ca",
   "metadata": {},
   "outputs": [],
   "source": [
    "random_forest_clf_pred = random_forest_clf.predict(X_test_pp)\n",
    "print(classification_report(y_test_pp, random_forest_clf_pred, target_names=target_names))"
   ]
  },
  {
   "cell_type": "code",
   "execution_count": null,
   "id": "de6cc934-01ba-4c3c-a786-c4bcd3e2ab8d",
   "metadata": {},
   "outputs": [],
   "source": [
    "joblib.dump(random_forest_clf, \"model.pkl\")"
   ]
  },
  {
   "cell_type": "markdown",
   "id": "683f96f1",
   "metadata": {},
   "source": [
    "#### Preprocessing of custom images (images taken with mobile phone)"
   ]
  },
  {
   "cell_type": "code",
   "execution_count": null,
   "id": "6c40bfae",
   "metadata": {},
   "outputs": [],
   "source": [
    "import os\n",
    "\n",
    "X_test_images = []\n",
    "\n",
    "directory = \"./bilder/egna_bilder/\"  # Specify the directory where the files are located\n",
    "\n",
    "# List the files in the directory\n",
    "files = os.listdir(directory)\n",
    "\n",
    "for filename in files:\n",
    "    if os.path.isfile(os.path.join(directory, filename)):\n",
    "        # Read the image file using OpenCV and convert it to grayscale\n",
    "        test_image = cv2.imread(os.path.join(directory, filename), cv2.IMREAD_GRAYSCALE)\n",
    "        img_resized = cv2.resize(test_image, (28,28), interpolation=cv2.INTER_LINEAR)\n",
    "        img_resized = cv2.bitwise_not(img_resized) #invert image\n",
    "        img_resized = img_resized.reshape(-1,784)\n",
    "        X_test_images.append(img_resized.reshape(-1,784))\n",
    "        print(filename)"
   ]
  },
  {
   "cell_type": "code",
   "execution_count": null,
   "id": "29978da2-ab71-48c9-8c69-40e9cde90dfe",
   "metadata": {},
   "outputs": [],
   "source": [
    "some_digit = X_test_images[3]\n",
    "some_digit_image = some_digit.reshape(28, 28)\n",
    "plt.imshow(some_digit_image, cmap=mpl.cm.binary)\n",
    "print(X_test_images[3])"
   ]
  },
  {
   "cell_type": "code",
   "execution_count": null,
   "id": "1401048f-a276-4038-8326-fd9db2d54516",
   "metadata": {},
   "outputs": [],
   "source": [
    "# Custom function to find background dynamically\n",
    "\n",
    "def find_background(my_matrix):    \n",
    "    new_matrix = my_matrix.reshape(28, 28)\n",
    "\n",
    "    first_max = np.max(new_matrix[:2])\n",
    "    last_max = np.max(new_matrix[-2:])\n",
    "\n",
    "    return np.max([first_max,last_max])"
   ]
  },
  {
   "cell_type": "code",
   "execution_count": null,
   "id": "960ba51f-b954-4e96-b40a-8cd2c4dd13c3",
   "metadata": {},
   "outputs": [],
   "source": [
    "# Set background to 0 and normalize\n",
    "\n",
    "my_X_new = []\n",
    "background_list = []\n",
    "\n",
    "for item in X_test_images:\n",
    "\n",
    "    background = find_background(item)\n",
    "    top_number = np.max(item)\n",
    "\n",
    "    my_X_new.append(item.flatten()/np.max(item))\n",
    "    \n",
    "    background_list.append(background/top_number)\n",
    "    \n",
    "X_test_images = my_X_new\n",
    "\n",
    "for index,item in enumerate(X_test_images):\n",
    "\n",
    "    item[item < background_list[index]*1.05] = 0 #works equally well for smartphone and webcam images. May not work using other peoples equipment?\n",
    "\n",
    "print(len(X_test_images))\n",
    "some_digit = X_test_images[0]\n",
    "some_digit_image = some_digit.reshape(28, 28)\n",
    "plt.imshow(some_digit_image, cmap=mpl.cm.binary)\n",
    "\n",
    "print(X_test_images[0])"
   ]
  },
  {
   "cell_type": "code",
   "execution_count": null,
   "id": "1f8cfd71-e773-453d-aa9b-4bf7988a5dfe",
   "metadata": {},
   "outputs": [],
   "source": [
    "# Replace smart phone images to the top right\n",
    "\n",
    "my_new_X = []\n",
    "\n",
    "for item in X_test_images:\n",
    "    new_item = remove_dead_space(item.reshape(-1,784), True)\n",
    "    my_new_X.append(remove_dead_space(new_item, False))"
   ]
  },
  {
   "cell_type": "code",
   "execution_count": null,
   "id": "42ce9024-f185-4e06-a3fa-a6f7f1c8f818",
   "metadata": {},
   "outputs": [],
   "source": [
    "plt.imshow(my_new_X[0], cmap=mpl.cm.binary)"
   ]
  },
  {
   "cell_type": "code",
   "execution_count": null,
   "id": "e181d1d5-0f4f-4d14-b54e-5ca454145ded",
   "metadata": {},
   "outputs": [],
   "source": [
    "# Custom function for smearing a digit onto the \"canvas\". To make the image thicker.\n",
    "\n",
    "def make_thicker(my_matrix):\n",
    "\n",
    "    thick_matrix = []\n",
    "    \n",
    "    for item in my_matrix:\n",
    "# for item in my_new_X[:1]:\n",
    "\n",
    "    # print(item)\n",
    "\n",
    "        zeros = np.zeros((1,28))\n",
    "    \n",
    "        move_down = item[:-1]\n",
    "        one_move_down = np.concatenate((zeros,move_down), axis=0)\n",
    "        together_down = item+one_move_down\n",
    "    \n",
    "        together_down = together_down.transpose()\n",
    "        # print(len(together_down))\n",
    "        move_down = together_down[1:]\n",
    "        # print(len(move_left))\n",
    "    \n",
    "        # print(len(zeros))\n",
    "        \n",
    "        one_move_left = np.concatenate((move_down,zeros), axis=0)\n",
    "        # print(len(one_move_left))\n",
    "        together_left = together_down+one_move_left\n",
    "\n",
    "        thick_matrix.append(together_left.transpose())\n",
    "\n",
    "    # print(together_left.shape)\n",
    "    # print(together_left)\n",
    "\n",
    "    # plt.imshow(together_left, cmap=mpl.cm.binary)\n",
    "    \n",
    "    return thick_matrix"
   ]
  },
  {
   "cell_type": "code",
   "execution_count": null,
   "id": "e3606f4c-e75a-495a-90dc-5a0e922fe802",
   "metadata": {},
   "outputs": [],
   "source": [
    "# make digits thicker\n",
    "\n",
    "my_thick_X = make_thicker(my_new_X)\n",
    "\n",
    "my_X_new = []\n",
    "\n",
    "for item in my_thick_X:\n",
    "\n",
    "    my_X_new.append(item.flatten()/np.max(item)) \n",
    "\n",
    "my_thick_X = my_X_new\n",
    "\n",
    "plt.imshow(my_thick_X[3].reshape(28,28), cmap=mpl.cm.binary)"
   ]
  },
  {
   "cell_type": "markdown",
   "id": "c1541727-433b-4875-830f-940b1172adf2",
   "metadata": {},
   "source": [
    "#### Predicting Smartphone images"
   ]
  },
  {
   "cell_type": "code",
   "execution_count": null,
   "id": "28b8c110-46af-4e30-9a51-9db24fede76b",
   "metadata": {},
   "outputs": [],
   "source": [
    "my_clf = joblib.load(\"model.pkl\")\n",
    "print()\n",
    "\n",
    "for item in my_thick_X:\n",
    "\n",
    "    item = item.reshape(-1, 784)\n",
    "    print(f\"Model predicted: {my_clf.predict(item)[0]}\")\n",
    "#     print(item[0])\n",
    "#     print()\n",
    "    some_digit_image = item.reshape(28, 28)\n",
    "    plt.imshow(some_digit_image, cmap=mpl.cm.binary)\n",
    "    plt.show()"
   ]
  },
  {
   "cell_type": "code",
   "execution_count": null,
   "id": "1af208a9-1ff4-4136-887d-25620cd586d6",
   "metadata": {},
   "outputs": [],
   "source": []
  }
 ],
 "metadata": {
  "kernelspec": {
   "display_name": "Python 3 (ipykernel)",
   "language": "python",
   "name": "python3"
  },
  "language_info": {
   "codemirror_mode": {
    "name": "ipython",
    "version": 3
   },
   "file_extension": ".py",
   "mimetype": "text/x-python",
   "name": "python",
   "nbconvert_exporter": "python",
   "pygments_lexer": "ipython3",
   "version": "3.11.7"
  }
 },
 "nbformat": 4,
 "nbformat_minor": 5
}
